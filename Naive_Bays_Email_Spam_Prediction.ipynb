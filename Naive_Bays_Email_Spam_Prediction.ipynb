{
  "nbformat": 4,
  "nbformat_minor": 0,
  "metadata": {
    "colab": {
      "provenance": []
    },
    "kernelspec": {
      "name": "python3",
      "display_name": "Python 3"
    },
    "language_info": {
      "name": "python"
    }
  },
  "cells": [
    {
      "cell_type": "markdown",
      "source": [
        "# Naive Bayes Email Project"
      ],
      "metadata": {
        "id": "KWCFswODEWsU"
      }
    },
    {
      "cell_type": "code",
      "execution_count": 1,
      "metadata": {
        "colab": {
          "base_uri": "https://localhost:8080/",
          "height": 72
        },
        "id": "XuvaMhyZD_aF",
        "outputId": "78f71d10-48c8-4ad2-960d-c2533e61160e"
      },
      "outputs": [
        {
          "output_type": "display_data",
          "data": {
            "text/plain": [
              "<IPython.core.display.HTML object>"
            ],
            "text/html": [
              "\n",
              "     <input type=\"file\" id=\"files-d146a668-150e-422c-abea-a3903dcec6ca\" name=\"files[]\" multiple disabled\n",
              "        style=\"border:none\" />\n",
              "     <output id=\"result-d146a668-150e-422c-abea-a3903dcec6ca\">\n",
              "      Upload widget is only available when the cell has been executed in the\n",
              "      current browser session. Please rerun this cell to enable.\n",
              "      </output>\n",
              "      <script>// Copyright 2017 Google LLC\n",
              "//\n",
              "// Licensed under the Apache License, Version 2.0 (the \"License\");\n",
              "// you may not use this file except in compliance with the License.\n",
              "// You may obtain a copy of the License at\n",
              "//\n",
              "//      http://www.apache.org/licenses/LICENSE-2.0\n",
              "//\n",
              "// Unless required by applicable law or agreed to in writing, software\n",
              "// distributed under the License is distributed on an \"AS IS\" BASIS,\n",
              "// WITHOUT WARRANTIES OR CONDITIONS OF ANY KIND, either express or implied.\n",
              "// See the License for the specific language governing permissions and\n",
              "// limitations under the License.\n",
              "\n",
              "/**\n",
              " * @fileoverview Helpers for google.colab Python module.\n",
              " */\n",
              "(function(scope) {\n",
              "function span(text, styleAttributes = {}) {\n",
              "  const element = document.createElement('span');\n",
              "  element.textContent = text;\n",
              "  for (const key of Object.keys(styleAttributes)) {\n",
              "    element.style[key] = styleAttributes[key];\n",
              "  }\n",
              "  return element;\n",
              "}\n",
              "\n",
              "// Max number of bytes which will be uploaded at a time.\n",
              "const MAX_PAYLOAD_SIZE = 100 * 1024;\n",
              "\n",
              "function _uploadFiles(inputId, outputId) {\n",
              "  const steps = uploadFilesStep(inputId, outputId);\n",
              "  const outputElement = document.getElementById(outputId);\n",
              "  // Cache steps on the outputElement to make it available for the next call\n",
              "  // to uploadFilesContinue from Python.\n",
              "  outputElement.steps = steps;\n",
              "\n",
              "  return _uploadFilesContinue(outputId);\n",
              "}\n",
              "\n",
              "// This is roughly an async generator (not supported in the browser yet),\n",
              "// where there are multiple asynchronous steps and the Python side is going\n",
              "// to poll for completion of each step.\n",
              "// This uses a Promise to block the python side on completion of each step,\n",
              "// then passes the result of the previous step as the input to the next step.\n",
              "function _uploadFilesContinue(outputId) {\n",
              "  const outputElement = document.getElementById(outputId);\n",
              "  const steps = outputElement.steps;\n",
              "\n",
              "  const next = steps.next(outputElement.lastPromiseValue);\n",
              "  return Promise.resolve(next.value.promise).then((value) => {\n",
              "    // Cache the last promise value to make it available to the next\n",
              "    // step of the generator.\n",
              "    outputElement.lastPromiseValue = value;\n",
              "    return next.value.response;\n",
              "  });\n",
              "}\n",
              "\n",
              "/**\n",
              " * Generator function which is called between each async step of the upload\n",
              " * process.\n",
              " * @param {string} inputId Element ID of the input file picker element.\n",
              " * @param {string} outputId Element ID of the output display.\n",
              " * @return {!Iterable<!Object>} Iterable of next steps.\n",
              " */\n",
              "function* uploadFilesStep(inputId, outputId) {\n",
              "  const inputElement = document.getElementById(inputId);\n",
              "  inputElement.disabled = false;\n",
              "\n",
              "  const outputElement = document.getElementById(outputId);\n",
              "  outputElement.innerHTML = '';\n",
              "\n",
              "  const pickedPromise = new Promise((resolve) => {\n",
              "    inputElement.addEventListener('change', (e) => {\n",
              "      resolve(e.target.files);\n",
              "    });\n",
              "  });\n",
              "\n",
              "  const cancel = document.createElement('button');\n",
              "  inputElement.parentElement.appendChild(cancel);\n",
              "  cancel.textContent = 'Cancel upload';\n",
              "  const cancelPromise = new Promise((resolve) => {\n",
              "    cancel.onclick = () => {\n",
              "      resolve(null);\n",
              "    };\n",
              "  });\n",
              "\n",
              "  // Wait for the user to pick the files.\n",
              "  const files = yield {\n",
              "    promise: Promise.race([pickedPromise, cancelPromise]),\n",
              "    response: {\n",
              "      action: 'starting',\n",
              "    }\n",
              "  };\n",
              "\n",
              "  cancel.remove();\n",
              "\n",
              "  // Disable the input element since further picks are not allowed.\n",
              "  inputElement.disabled = true;\n",
              "\n",
              "  if (!files) {\n",
              "    return {\n",
              "      response: {\n",
              "        action: 'complete',\n",
              "      }\n",
              "    };\n",
              "  }\n",
              "\n",
              "  for (const file of files) {\n",
              "    const li = document.createElement('li');\n",
              "    li.append(span(file.name, {fontWeight: 'bold'}));\n",
              "    li.append(span(\n",
              "        `(${file.type || 'n/a'}) - ${file.size} bytes, ` +\n",
              "        `last modified: ${\n",
              "            file.lastModifiedDate ? file.lastModifiedDate.toLocaleDateString() :\n",
              "                                    'n/a'} - `));\n",
              "    const percent = span('0% done');\n",
              "    li.appendChild(percent);\n",
              "\n",
              "    outputElement.appendChild(li);\n",
              "\n",
              "    const fileDataPromise = new Promise((resolve) => {\n",
              "      const reader = new FileReader();\n",
              "      reader.onload = (e) => {\n",
              "        resolve(e.target.result);\n",
              "      };\n",
              "      reader.readAsArrayBuffer(file);\n",
              "    });\n",
              "    // Wait for the data to be ready.\n",
              "    let fileData = yield {\n",
              "      promise: fileDataPromise,\n",
              "      response: {\n",
              "        action: 'continue',\n",
              "      }\n",
              "    };\n",
              "\n",
              "    // Use a chunked sending to avoid message size limits. See b/62115660.\n",
              "    let position = 0;\n",
              "    do {\n",
              "      const length = Math.min(fileData.byteLength - position, MAX_PAYLOAD_SIZE);\n",
              "      const chunk = new Uint8Array(fileData, position, length);\n",
              "      position += length;\n",
              "\n",
              "      const base64 = btoa(String.fromCharCode.apply(null, chunk));\n",
              "      yield {\n",
              "        response: {\n",
              "          action: 'append',\n",
              "          file: file.name,\n",
              "          data: base64,\n",
              "        },\n",
              "      };\n",
              "\n",
              "      let percentDone = fileData.byteLength === 0 ?\n",
              "          100 :\n",
              "          Math.round((position / fileData.byteLength) * 100);\n",
              "      percent.textContent = `${percentDone}% done`;\n",
              "\n",
              "    } while (position < fileData.byteLength);\n",
              "  }\n",
              "\n",
              "  // All done.\n",
              "  yield {\n",
              "    response: {\n",
              "      action: 'complete',\n",
              "    }\n",
              "  };\n",
              "}\n",
              "\n",
              "scope.google = scope.google || {};\n",
              "scope.google.colab = scope.google.colab || {};\n",
              "scope.google.colab._files = {\n",
              "  _uploadFiles,\n",
              "  _uploadFilesContinue,\n",
              "};\n",
              "})(self);\n",
              "</script> "
            ]
          },
          "metadata": {}
        },
        {
          "output_type": "stream",
          "name": "stdout",
          "text": [
            "Saving spam_ham_dataset.csv to spam_ham_dataset.csv\n"
          ]
        }
      ],
      "source": [
        "from google.colab import files\n",
        "uploaded = files.upload()"
      ]
    },
    {
      "cell_type": "code",
      "source": [
        "# นำเข้าไลบรารีที่จำเป็น\n",
        "import pandas as pd\n",
        "from sklearn.model_selection import train_test_split\n",
        "from sklearn.feature_extraction.text import CountVectorizer\n",
        "from sklearn.naive_bayes import MultinomialNB\n",
        "from sklearn.metrics import accuracy_score, classification_report, confusion_matrix\n",
        "import seaborn as sns\n",
        "import matplotlib.pyplot as plt\n"
      ],
      "metadata": {
        "id": "zim38BS6GjkZ"
      },
      "execution_count": 2,
      "outputs": []
    },
    {
      "cell_type": "code",
      "source": [
        "# โหลดชุดข้อมูล (กรณีที่อัปโหลดแล้ว)\n",
        "import io\n",
        "data = pd.read_csv(io.BytesIO(uploaded['spam_ham_dataset.csv']))\n",
        "\n",
        "# ลบคอลัมน์ที่ไม่จำเป็น\n",
        "data = data.drop(columns=[\"Unnamed: 0\"])\n",
        "\n",
        "# ตรวจสอบข้อมูล\n",
        "print(data.head(10))\n"
      ],
      "metadata": {
        "colab": {
          "base_uri": "https://localhost:8080/"
        },
        "id": "PyBVCnrOJ62y",
        "outputId": "bd60b5d4-9f73-4d88-d9ea-2587d0ac21fd"
      },
      "execution_count": 4,
      "outputs": [
        {
          "output_type": "stream",
          "name": "stdout",
          "text": [
            "  label                                               text  label_num\n",
            "0   ham  Subject: enron methanol ; meter # : 988291\\r\\n...          0\n",
            "1   ham  Subject: hpl nom for january 9 , 2001\\r\\n( see...          0\n",
            "2   ham  Subject: neon retreat\\r\\nho ho ho , we ' re ar...          0\n",
            "3  spam  Subject: photoshop , windows , office . cheap ...          1\n",
            "4   ham  Subject: re : indian springs\\r\\nthis deal is t...          0\n",
            "5   ham  Subject: ehronline web address change\\r\\nthis ...          0\n",
            "6   ham  Subject: spring savings certificate - take 30 ...          0\n",
            "7  spam  Subject: looking for medication ? we ` re the ...          1\n",
            "8   ham  Subject: noms / actual flow for 2 / 26\\r\\nwe a...          0\n",
            "9   ham  Subject: nominations for oct . 21 - 23 , 2000\\...          0\n"
          ]
        }
      ]
    },
    {
      "cell_type": "code",
      "source": [
        "# ตัวแปรอิสระ X คือคอลัมน์ text และตัวแปรเป้าหมาย y คือคอลัมน์ label_num\n",
        "X = data['text']\n",
        "y = data['label_num']\n",
        "\n",
        "# แบ่งข้อมูลเป็นชุดฝึกและชุดทดสอบ\n",
        "X_train, X_test, y_train, y_test = train_test_split(X, y, test_size=0.2, random_state=42)\n",
        "\n"
      ],
      "metadata": {
        "id": "Ov21A9uVN--l"
      },
      "execution_count": 5,
      "outputs": []
    },
    {
      "cell_type": "code",
      "source": [
        "# แปลงข้อความให้เป็นเวกเตอร์ของความถี่ของคำ (Bag of Words)\n",
        "vectorizer = CountVectorizer()\n",
        "X_train_transformed = vectorizer.fit_transform(X_train)\n",
        "X_test_transformed = vectorizer.transform(X_test)\n",
        "\n"
      ],
      "metadata": {
        "id": "lcHf2zqgOJY_"
      },
      "execution_count": 6,
      "outputs": []
    },
    {
      "cell_type": "code",
      "source": [
        "# สร้างโมเดล Naive Bayes\n",
        "model = MultinomialNB()\n",
        "\n",
        "# ฝึกโมเดลกับข้อมูล\n",
        "model.fit(X_train_transformed, y_train)\n",
        "\n",
        "# ทำนายผลลัพธ์บนชุดข้อมูลทดสอบ\n",
        "y_pred = model.predict(X_test_transformed)\n"
      ],
      "metadata": {
        "id": "eJho47ChOq-t"
      },
      "execution_count": 7,
      "outputs": []
    },
    {
      "cell_type": "code",
      "source": [
        "# ประเมินผลลัพธ์ด้วย accuracy\n",
        "accuracy = accuracy_score(y_test, y_pred)\n",
        "print(f\"Accuracy: {accuracy}\")\n"
      ],
      "metadata": {
        "colab": {
          "base_uri": "https://localhost:8080/"
        },
        "id": "14CpP0i9W7kU",
        "outputId": "ae8446c0-f685-41f1-c267-7a4e9b3c17bd"
      },
      "execution_count": 8,
      "outputs": [
        {
          "output_type": "stream",
          "name": "stdout",
          "text": [
            "Accuracy: 0.9719806763285024\n"
          ]
        }
      ]
    },
    {
      "cell_type": "code",
      "source": [
        "# รายงานผลการจำแนกประเภท\n",
        "print(classification_report(y_test, y_pred))\n",
        "\n"
      ],
      "metadata": {
        "colab": {
          "base_uri": "https://localhost:8080/"
        },
        "id": "rfZ3VJ-8XLBo",
        "outputId": "5fd20b11-520b-4602-8442-41f86ffd91ed"
      },
      "execution_count": 9,
      "outputs": [
        {
          "output_type": "stream",
          "name": "stdout",
          "text": [
            "              precision    recall  f1-score   support\n",
            "\n",
            "           0       0.98      0.98      0.98       742\n",
            "           1       0.96      0.95      0.95       293\n",
            "\n",
            "    accuracy                           0.97      1035\n",
            "   macro avg       0.97      0.96      0.97      1035\n",
            "weighted avg       0.97      0.97      0.97      1035\n",
            "\n"
          ]
        }
      ]
    },
    {
      "cell_type": "code",
      "source": [
        "# สร้าง Confusion Matrix\n",
        "cm = confusion_matrix(y_test, y_pred)\n",
        "\n"
      ],
      "metadata": {
        "id": "RzIC4eNTXMh-"
      },
      "execution_count": 10,
      "outputs": []
    },
    {
      "cell_type": "code",
      "source": [
        "# แสดง Confusion Matrix ด้วย heatmap\n",
        "sns.heatmap(cm, annot=True, fmt='d', cmap='Blues')\n",
        "plt.ylabel('True label')\n",
        "plt.xlabel('Predicted label')\n",
        "plt.show()"
      ],
      "metadata": {
        "colab": {
          "base_uri": "https://localhost:8080/",
          "height": 449
        },
        "id": "AyzaxjsAXOAf",
        "outputId": "293159e9-b344-4e1c-e984-8e51f7dbfb0e"
      },
      "execution_count": 11,
      "outputs": [
        {
          "output_type": "display_data",
          "data": {
            "text/plain": [
              "<Figure size 640x480 with 2 Axes>"
            ],
            "image/png": "[encoded data removed]"
          },
          "metadata": {}
        }
      ]
    },
    {
      "cell_type": "code",
      "source": [
        "# รายงานผลการจำแนกประเภทหลังจากการทำcross validation\n",
        "\n",
        "# ทำ Cross Validation (สมมติใช้ 5 folds)\n",
        "scores = cross_val_score(model, X_train_transformed, y_train, cv=5)\n",
        "\n",
        "# แสดงผลคะแนนของแต่ละ fold\n",
        "print(\"Cross Validation Scores:\", scores)\n",
        "\n",
        "# แสดงค่าเฉลี่ยของคะแนน Cross Validation\n",
        "print(\"Average CV Score:\", scores.mean())\n",
        "\n",
        "# สร้างโมเดลและฝึกโมเดลอีกครั้ง (เพื่อใช้ในการรายงานผลลัพธ์)\n",
        "model.fit(X_train_transformed, y_train)\n",
        "\n",
        "# ทำนายผลลัพธ์บนชุดข้อมูลทดสอบ\n",
        "y_pred = model.predict(X_test_transformed)\n",
        "\n",
        "# รายงานผลการจำแนกประเภทหลังจาก Cross Validation\n",
        "print(\"\\nClassification Report after Cross Validation:\")\n",
        "print(classification_report(y_test, y_pred))\n"
      ],
      "metadata": {
        "colab": {
          "base_uri": "https://localhost:8080/"
        },
        "id": "gjcEuscDaz8C",
        "outputId": "ef255312-5786-4764-fd92-3b4f9a3ce83f"
      },
      "execution_count": 14,
      "outputs": [
        {
          "output_type": "stream",
          "name": "stdout",
          "text": [
            "Cross Validation Scores: [0.98067633 0.97944377 0.97339782 0.97460701 0.99274486]\n",
            "Average CV Score: 0.9801739597754529\n",
            "\n",
            "Classification Report after Cross Validation:\n",
            "              precision    recall  f1-score   support\n",
            "\n",
            "           0       0.98      0.98      0.98       742\n",
            "           1       0.96      0.95      0.95       293\n",
            "\n",
            "    accuracy                           0.97      1035\n",
            "   macro avg       0.97      0.96      0.97      1035\n",
            "weighted avg       0.97      0.97      0.97      1035\n",
            "\n"
          ]
        }
      ]
    },
    {
      "cell_type": "code",
      "source": [
        "# prompt: แสดง Confusion Matrix ด้วย heatmap หลังจากที่ทำ Cross Validation หน่อยครับ\n",
        "\n",
        "from sklearn.model_selection import cross_val_predict\n",
        "\n",
        "# ทำนายผลลัพธ์ด้วย Cross Validation\n",
        "y_pred_cv = cross_val_predict(model, X_train_transformed, y_train, cv=5)\n",
        "\n",
        "# สร้าง Confusion Matrix จากผลลัพธ์ Cross Validation\n",
        "cm_cv = confusion_matrix(y_train, y_pred_cv)\n",
        "\n",
        "# แสดง Confusion Matrix ด้วย heatmap\n",
        "plt.figure(figsize=(8, 6))\n",
        "sns.heatmap(cm_cv, annot=True, fmt='d', cmap='Blues',\n",
        "            xticklabels=['Ham', 'Spam'], yticklabels=['Ham', 'Spam'])\n",
        "plt.ylabel('True label')\n",
        "plt.xlabel('Predicted label')\n",
        "plt.title('Confusion Matrix (Cross Validation)')\n",
        "plt.show()"
      ],
      "metadata": {
        "colab": {
          "base_uri": "https://localhost:8080/",
          "height": 564
        },
        "id": "VeNFiw8AbTPp",
        "outputId": "f923fac5-7b32-44d5-b23f-b286f09dd1e1"
      },
      "execution_count": 15,
      "outputs": [
        {
          "output_type": "display_data",
          "data": {
            "text/plain": [
              "<Figure size 800x600 with 2 Axes>"
            ],
            "image/png": "[encoded data removed]"
          },
          "metadata": {}
        }
      ]
    },
    {
      "cell_type": "markdown",
      "source": [
        "# โค้ดตัวอย่างในการทำนายอีเมลใหม่:\n"
      ],
      "metadata": {
        "id": "xkvrDHOcc8SI"
      }
    },
    {
      "cell_type": "code",
      "source": [
        "# ข้อความอีเมลใหม่ที่คุณต้องการให้โมเดลทำนาย\n",
        "new_email = [\"Win a free trip to Hawaii! Just click here to claim your prize.\"]\n",
        "\n",
        "# ใช้ vectorizer ที่เคย fit จาก X_train แปลงข้อความใหม่ (แปลงโดยใช้ transform เท่านั้น)\n",
        "new_email_transformed = vectorizer.transform(new_email)\n",
        "\n",
        "# ทำนายผลลัพธ์โดยใช้โมเดลที่ฝึกไว้แล้ว\n",
        "prediction = model.predict(new_email_transformed)\n",
        "\n",
        "# แสดงผลลัพธ์\n",
        "if prediction[0] == 1:\n",
        "    print(\"ผลลัพธ์: Spam\")\n",
        "else:\n",
        "    print(\"ผลลัพธ์: Ham (Not Spam)\")\n"
      ],
      "metadata": {
        "colab": {
          "base_uri": "https://localhost:8080/"
        },
        "id": "Qsnx5dDCdAzO",
        "outputId": "2c560af9-3e9f-4d95-da0f-acef76098d27"
      },
      "execution_count": 16,
      "outputs": [
        {
          "output_type": "stream",
          "name": "stdout",
          "text": [
            "ผลลัพธ์: Spam\n"
          ]
        }
      ]
    }
  ]
}